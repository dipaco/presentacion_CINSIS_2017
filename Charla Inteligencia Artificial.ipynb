{
 "cells": [
  {
   "cell_type": "markdown",
   "metadata": {
    "slideshow": {
     "slide_type": "skip"
    }
   },
   "source": [
    "#### Configuration\n",
    "from IPython.core.display import HTML\n",
    "HTML(\"\"\"\n",
    "<style>\n",
    "\n",
    "div.cell { /* Tunes the space between cells */\n",
    "margin-top:1em;\n",
    "margin-bottom:1em;\n",
    "}\n",
    "\n",
    "div.text_cell_render h1 { /* Main titles bigger, centered */\n",
    "font-size: 1.2em;\n",
    "line-height:1.4em;\n",
    "text-align:center;\n",
    "}\n",
    "\n",
    "div.text_cell_render h2 { /*  Parts names nearer from text */\n",
    "margin-bottom: -0.4em;\n",
    "}\n",
    "\n",
    "\n",
    "div.text_cell_render { /* Customize text cells */\n",
    "font-family: 'Times New Roman';\n",
    "font-size:1.5em;\n",
    "line-height:1.4em;\n",
    "padding-left:3em;\n",
    "padding-right:3em;\n",
    "}\n",
    "</style>\n",
    "\"\"\")"
   ]
  },
  {
   "cell_type": "markdown",
   "metadata": {
    "slideshow": {
     "slide_type": "slide"
    }
   },
   "source": [
    "# Técnicas Recientes de Inteligencia Artificial Aplicadas a la Ingeniería\n",
    "## Diego Patiño, Ph.D (c).\n",
    "#### 2017"
   ]
  },
  {
   "cell_type": "markdown",
   "metadata": {
    "slideshow": {
     "slide_type": "slide"
    }
   },
   "source": [
    "## ¿De donde vengo?\n",
    "\n",
    "<center>\n",
    "<img src=\"images/medellin.jpg\" width=\"800px\">\n",
    " </center>"
   ]
  },
  {
   "cell_type": "markdown",
   "metadata": {
    "slideshow": {
     "slide_type": "slide"
    }
   },
   "source": [
    "## 150 Años de la Universidad Nacional de Colombia\n",
    "\n",
    "<center>\n",
    "<img src=\"images/unal.png\" width=\"800px\">\n",
    " </center>"
   ]
  },
  {
   "cell_type": "markdown",
   "metadata": {
    "slideshow": {
     "slide_type": "slide"
    }
   },
   "source": [
    "##### Pertenezco al grupo de investigación en Inteligencia Artificial (GIDIA)\n",
    "\n",
    "<center>\n",
    "<img src=\"images/Gidia.png\" width=\"700px\">\n",
    " </center>"
   ]
  },
  {
   "cell_type": "markdown",
   "metadata": {
    "slideshow": {
     "slide_type": "slide"
    }
   },
   "source": [
    "# Agenda\n",
    "\n",
    "\n",
    "1. Conceptos de inteligencia artificial.\n",
    "    * Como se define la IA.\n",
    "    * Aprendizaje de máquina, Visión por computador y otras disciplinas de IA.\n",
    "    * ¿Qué hace a un software inteligente?\n",
    "2. Como solucionar problemas de IA. \n",
    "    * Conceptos claros = Mejores desarrollos de IA.\n",
    "    * Programar es fundamental (Pero no es lo único)\n",
    "    * Herramientas para el desarrollo de IA.\n",
    "3. ¿Cómo se hace inteligencia artificial actualmente?\n",
    "    * Deep learning: Una Revolución del mundo del machine learning.\n",
    "    * IA como servicio (IAaaS).\n",
    "    * Robótica.\n"
   ]
  },
  {
   "cell_type": "markdown",
   "metadata": {
    "slideshow": {
     "slide_type": "slide"
    }
   },
   "source": [
    "# Conceptos de inteligencia artificial\n",
    "\n",
    "### (Que es y que no es Inteligencia artificial)"
   ]
  },
  {
   "cell_type": "markdown",
   "metadata": {
    "slideshow": {
     "slide_type": "slide"
    }
   },
   "source": [
    "## Como definir la IA.\n",
    "\n",
    "<img src='images/John_McCarthy.jpg' width='300px'>\n"
   ]
  },
  {
   "cell_type": "markdown",
   "metadata": {
    "slideshow": {
     "slide_type": "-"
    }
   },
   "source": [
    "> [...] Es la ciencia e ingenio de hacer máquinas inteligentes, especialmente programas de cómputo inteligentes [...]\n",
    "\n",
    "> - John McCarthy, 1956*"
   ]
  },
  {
   "cell_type": "markdown",
   "metadata": {
    "slideshow": {
     "slide_type": "slide"
    }
   },
   "source": [
    "## Como definir la IA.\n",
    "\n",
    "<img src='images/Dean.jpg' width='250px'>\n"
   ]
  },
  {
   "cell_type": "markdown",
   "metadata": {},
   "source": [
    "> Es el diseño y estudio de programas de computadora que se comportan inteligentemente.\n",
    "\n",
    "> (Dean, Allen, & Aloimonos, 1995)\n"
   ]
  },
  {
   "cell_type": "markdown",
   "metadata": {
    "slideshow": {
     "slide_type": "slide"
    }
   },
   "source": [
    "## Como definir la IA.\n",
    "\n",
    "<img src='images/TE-Logo.png' width='300px'>\n"
   ]
  },
  {
   "cell_type": "markdown",
   "metadata": {},
   "source": [
    "> La inteligencia artificial es una entidad (o collección de entidades cooperativas entre si), capaz de recibir entradas del entorno; intepretrar y aprender de tales entradas; y exibir comportamientos y acciones relacionados con dichas entradas, que ayudan a la entidad a lograr objetivos o metas particulares en un periodo de tiempo dado.\n",
    "\n",
    "> Daniel G. Faggella (2016). Cofounder of TechEmergence.\n",
    "\n",
    "###### (https://www.techemergence.com/what-is-artificial-intelligence-an-informed-definition/)\n"
   ]
  },
  {
   "cell_type": "markdown",
   "metadata": {
    "slideshow": {
     "slide_type": "slide"
    }
   },
   "source": [
    "# Disciplinas dentro de la IA\n",
    "\n",
    "<center>\n",
    "<img src='images/disciplinas_ai.png' width='900px'>\n",
    "</center>\n",
    "\n",
    "**Exta**: Optimización, Estadística, y otras áreas afinas a la ingeniería."
   ]
  },
  {
   "cell_type": "markdown",
   "metadata": {
    "slideshow": {
     "slide_type": "slide"
    }
   },
   "source": [
    "## ¿Qué hace a un sistema inteligente?\n",
    "\n",
    "    * ¿Existen de verdad los sistemas inteligentes?\n",
    "\n",
    "    * ¿Como se que mi sistema es inteligente?\n",
    "\n",
    "| <img src='images/xkcd.png' width='400px'> | <img src='images/is ai intelligence.png' width='800px'> |\n",
    "|-----------------------------------------------------------------------------------------------------------|\n",
    "|                                                   |                                                       |"
   ]
  },
  {
   "cell_type": "markdown",
   "metadata": {
    "slideshow": {
     "slide_type": "slide"
    }
   },
   "source": [
    "# Como solucionar problemas de IA."
   ]
  },
  {
   "cell_type": "markdown",
   "metadata": {
    "slideshow": {
     "slide_type": "slide"
    }
   },
   "source": [
    "## Conceptos claros = Mejores desarrollos de IA.\n",
    "\n",
    "<center>\n",
    "<img src='images/ml-basic-diagram.png' width='1400px'>\n",
    "</center>"
   ]
  },
  {
   "cell_type": "markdown",
   "metadata": {
    "slideshow": {
     "slide_type": "slide"
    }
   },
   "source": [
    "## Conceptos claros = Mejores desarrollos de IA.\n",
    "\n",
    "<center>\n",
    "<img src='images/ml_mistakes.png' width='1000px'>\n",
    "</center>"
   ]
  },
  {
   "cell_type": "markdown",
   "metadata": {
    "slideshow": {
     "slide_type": "slide"
    }
   },
   "source": [
    "## Conceptos claros = Mejores desarrollos de IA.\n",
    "\n",
    "<center>\n",
    "<img src='images/which.png' width='1000px'>\n",
    "</center>"
   ]
  },
  {
   "cell_type": "markdown",
   "metadata": {
    "slideshow": {
     "slide_type": "slide"
    }
   },
   "source": [
    "## Programar es clave... Pero no es lo único.\n",
    "\n",
    "1. Fundamentos de programación y ciencias de la computación.\n",
    "2. Probabilidad y estadística.\n",
    "3. Analisis de datos.\n",
    "4. Saber usar algoritmos y librerias de machine learning.\n",
    "5. Diseño y construcción de software.\n",
    "\n",
    "Fuente: [Udacity Blog](https://blog.udacity.com/2016/04/5-skills-you-need-to-become-a-machine-learning-engineer.html)"
   ]
  },
  {
   "cell_type": "markdown",
   "metadata": {
    "slideshow": {
     "slide_type": "slide"
    }
   },
   "source": [
    "## Programar es clave... Pero no es lo único.\n",
    "\n",
    "<center>\n",
    "<img src='images/ml_need_graph.png' width='1300px'>\n",
    "</center>\n",
    "\n",
    "Fuente: [Udacity Blog](https://blog.udacity.com/2016/04/5-skills-you-need-to-become-a-machine-learning-engineer.html)"
   ]
  },
  {
   "cell_type": "markdown",
   "metadata": {
    "slideshow": {
     "slide_type": "slide"
    }
   },
   "source": [
    "## Herramientas para el desarrollo de IA.\n",
    "\n",
    "0. **Problemas:** Siempre hay algo que resolver. Siempre hay algo que mejorar.\n",
    "1. **Datos:** Sin información no nay conocimiento, sin conocimiento no se toman decisiones.\n",
    "2. **Frameworks, modelos y librerias:** No re-invetar la rueda. La rueda del IA ya está girando.\n",
    "3. **Infraestructura:** La mayoría de modelos de IA requiere capacidades de cómputo elevadas."
   ]
  },
  {
   "cell_type": "markdown",
   "metadata": {
    "slideshow": {
     "slide_type": "slide"
    }
   },
   "source": [
    "## ¿Donde consigo los datos?\n",
    "\n",
    "<center>\n",
    "<img src='images/datasources.png' width='1000px'>\n",
    "</center>"
   ]
  },
  {
   "cell_type": "markdown",
   "metadata": {
    "slideshow": {
     "slide_type": "slide"
    }
   },
   "source": [
    "## ¿Que librerias/framework/lenguaje usar?\n",
    "\n",
    "### Reporte de IBM sobre ofertas de trabajo relacionadas con machine learning y deep learning:\n",
    "\n",
    "\n",
    "| <img src='images/trends0.png' width='1000px'> | <img src='images/trendsdl.png' width='1000px'> |\n",
    "|--------------------------------------------------|--------------------------------------------------|\n",
    "|                                                  |                                                  |"
   ]
  },
  {
   "cell_type": "markdown",
   "metadata": {
    "slideshow": {
     "slide_type": "slide"
    }
   },
   "source": [
    "## ¿Que librerias/framework/lenguaje usar?\n",
    "\n",
    "<center>\n",
    "<img src='images/frameworks.png' width='700px'>\n",
    "</center>"
   ]
  },
  {
   "cell_type": "markdown",
   "metadata": {
    "slideshow": {
     "slide_type": "slide"
    }
   },
   "source": [
    "# Ténicas modernas de IA."
   ]
  },
  {
   "cell_type": "markdown",
   "metadata": {
    "slideshow": {
     "slide_type": "slide"
    }
   },
   "source": [
    "## Deep Learning: Una revolución en el mundo del machine learning\n",
    "\n",
    "<center>\n",
    "<img src='images/nn_timeline.jpg' width='1300px'>\n",
    "</center>"
   ]
  },
  {
   "cell_type": "markdown",
   "metadata": {
    "slideshow": {
     "slide_type": "slide"
    }
   },
   "source": [
    "## Deep Learning: Una revolución en el mundo del machine learning\n",
    "\n",
    "### Es dificil definir el concepto de Deep Learning. ¡Usemos una imagen!\n",
    "\n",
    "<center>\n",
    "<img src='images/per_vs_deep.png' width='1200px'>\n",
    "</center>"
   ]
  },
  {
   "cell_type": "markdown",
   "metadata": {
    "slideshow": {
     "slide_type": "slide"
    }
   },
   "source": [
    "## Deep Learning: Una revolución en el mundo del machine learning\n",
    "\n",
    "### Pero... y ... ¿que pasá aquí entonces?\n",
    "\n",
    "<center>\n",
    "<img src='images/boltzman.png' width='500px'>\n",
    "</center>\n",
    "\n",
    "[Diferentes tipos de neural networks](https://medium.com/towards-data-science/the-mostly-complete-chart-of-neural-networks-explained-3fb6f2367464)"
   ]
  },
  {
   "cell_type": "markdown",
   "metadata": {
    "slideshow": {
     "slide_type": "slide"
    }
   },
   "source": [
    "## Deep Learning: Una revolución en el mundo del machine learning\n",
    "\n",
    "    * En que se diferencia con respecto a los otros métodos de machine learning\n",
    "\n",
    "<center>\n",
    "<img src='images/hc_vs_deep.png' width='900px'>\n",
    "</center>"
   ]
  },
  {
   "cell_type": "markdown",
   "metadata": {
    "slideshow": {
     "slide_type": "slide"
    }
   },
   "source": [
    "## Deep Learning: Una revolución en el mundo del machine learning\n",
    "\n",
    "### Que se puede hacer con ella\n"
   ]
  },
  {
   "cell_type": "code",
   "execution_count": 3,
   "metadata": {},
   "outputs": [
    {
     "data": {
      "text/html": [
       "\n",
       "        <iframe\n",
       "            width=\"400\"\n",
       "            height=\"300\"\n",
       "            src=\"https://www.youtube.com/embed/aKSILzbAqJs?end=142&color=red&theme=light&start=23&autoplay=False\"\n",
       "            frameborder=\"0\"\n",
       "            allowfullscreen\n",
       "        ></iframe>\n",
       "        "
      ],
      "text/plain": [
       "<IPython.lib.display.YouTubeVideo at 0x113f6d6d8>"
      ]
     },
     "execution_count": 3,
     "metadata": {},
     "output_type": "execute_result"
    }
   ],
   "source": [
    "from IPython.display import YouTubeVideo\n",
    "from datetime import timedelta\n",
    "start=int(timedelta(hours=0, minutes=0, seconds=23).total_seconds())\n",
    "end=int(timedelta(hours=0, minutes=2, seconds=22).total_seconds())\n",
    "YouTubeVideo('aKSILzbAqJs', start=start, end=end, autoplay=False, theme=\"light\", color=\"red\")"
   ]
  },
  {
   "cell_type": "markdown",
   "metadata": {
    "slideshow": {
     "slide_type": "slide"
    }
   },
   "source": [
    "## Inteligencia artificial como servicio (AIaaS)\n",
    "\n",
    "* El software como servicio * (SaaS) * permite a los usuarios conectarse a aplicaciones basadas en la nube a través de Internet y usarlas. Algunos ejemplos comunes son el correo electrónico, los calendarios y las herramientas ofimáticas (como Microsoft Office 365).\n",
    "\n",
    "| <img src='images/mlaas.png' width='2200px'>        |  Los clientes acceden al servicio a través de peticiones web. El servidor usa modelos pre-entrenados basados en IA para producir una respuesta. |\n",
    "|-----------------------------------------------------------------------------------------------------------|\n",
    "|                                                   |                                                       |"
   ]
  },
  {
   "cell_type": "markdown",
   "metadata": {
    "slideshow": {
     "slide_type": "slide"
    }
   },
   "source": [
    "## Inteligencia artificial como servicio (AIaaS)\n",
    "\n",
    "* Modelos \"ready-to-use\" consultables a través de un API\n",
    "* Implementación de Algoritmos de AI/Machine learning rápidos y escalables.\n",
    "\n",
    "<center>\n",
    "<img src=\"images/AIaaS.png\" width=\"600px\">\n",
    " </center>"
   ]
  },
  {
   "cell_type": "markdown",
   "metadata": {
    "slideshow": {
     "slide_type": "slide"
    }
   },
   "source": [
    "## Inteligencia artificial como servicio (AIaaS)\n",
    "\n",
    "#### Ejemplo: Google Vision API"
   ]
  },
  {
   "cell_type": "code",
   "execution_count": 6,
   "metadata": {
    "collapsed": true
   },
   "outputs": [],
   "source": [
    "def detect_faces(image_filename):\n",
    "    from google.cloud import vision # Google Vision API Object\n",
    "    import matplotlib.pyplot as plt\n",
    "    import numpy as np\n",
    "    from PIL import Image, ImageDraw\n",
    "\n",
    "    client = vision.Client('shopping-recommender')\n",
    "    image = client.image(filename=image_filename)\n",
    "    faces = image.detect_faces(2) # Aquí ocurre la detección/comunicación con el servidor de google\n",
    "    im = Image.open(image_filename)\n",
    "    draw = ImageDraw.Draw(im)\n",
    "\n",
    "    for face in faces:\n",
    "        box = [(vertex.x_coordinate, vertex.y_coordinate) for vertex in face.bounds.vertices]\n",
    "        draw.line(box + [box[0]], width=5, fill='#00ff00')\n",
    "\n",
    "    plt.imshow(np.asarray(im))\n",
    "    plt.show()"
   ]
  },
  {
   "cell_type": "markdown",
   "metadata": {
    "slideshow": {
     "slide_type": "slide"
    }
   },
   "source": [
    "## Inteligencia artificial como servicio (AIaaS)"
   ]
  },
  {
   "cell_type": "code",
   "execution_count": 7,
   "metadata": {
    "slideshow": {
     "slide_type": "-"
    }
   },
   "outputs": [
    {
     "data": {
      "image/png": "[encoded data removed]",
      "text/plain": [
       "<matplotlib.figure.Figure at 0x10943ca58>"
      ]
     },
     "metadata": {},
     "output_type": "display_data"
    }
   ],
   "source": [
    "image_filename = 'images/John_McCarthy.jpg'\n",
    "#image_filename = 'images/face-input.jpg'\n",
    "detect_faces(image_filename)"
   ]
  },
  {
   "cell_type": "markdown",
   "metadata": {
    "slideshow": {
     "slide_type": "slide"
    }
   },
   "source": [
    "## Robótica."
   ]
  },
  {
   "cell_type": "markdown",
   "metadata": {
    "slideshow": {
     "slide_type": "slide"
    }
   },
   "source": [
    "## Robótica.\n",
    "\n",
    "**Navegación automática:** Los carros que se conducen automáticamente son uno de los avances recientes más famosos de la IA. Usan una gran variedad de métodos de IA: CNN, Learned rules, computer vision, kalman filters and particle filters.\n"
   ]
  },
  {
   "cell_type": "code",
   "execution_count": null,
   "metadata": {
    "collapsed": true,
    "slideshow": {
     "slide_type": "-"
    }
   },
   "outputs": [],
   "source": [
    "from IPython.display import YouTubeVideo\n",
    "from datetime import timedelta\n",
    "YouTubeVideo('uHbMt6WDhQ8', autoplay=False, theme=\"light\", color=\"red\")"
   ]
  },
  {
   "cell_type": "markdown",
   "metadata": {
    "slideshow": {
     "slide_type": "slide"
    }
   },
   "source": [
    "## Robots colaborativos (Inteligencia colaborativa)\n",
    "    * Se comunican entre ellos.\n",
    "    * Desarrollan tareas en conjunto.\n",
    "[Ted Talk de Vijay Kumar, director del GRASP Lab en UPenn](https://www.youtube.com/watch?v=4ErEBkj_3PY)"
   ]
  },
  {
   "cell_type": "code",
   "execution_count": null,
   "metadata": {
    "collapsed": true
   },
   "outputs": [],
   "source": [
    "from IPython.display import YouTubeVideo\n",
    "from datetime import timedelta\n",
    "YouTubeVideo('YQIMGV5vtd4', autoplay=False, theme=\"light\", color=\"red\")"
   ]
  },
  {
   "cell_type": "markdown",
   "metadata": {
    "slideshow": {
     "slide_type": "slide"
    }
   },
   "source": [
    "# ¿Hacia donde vamos?."
   ]
  },
  {
   "cell_type": "markdown",
   "metadata": {
    "slideshow": {
     "slide_type": "slide"
    }
   },
   "source": [
    "## El futuro no tan lejano de la IA\n",
    "\n",
    "1. **Llegó para quedare:** Hay tanto potencial en los desarrollos de inteligencia artificial que es dificil imaginarse un futuro sin ella. Muchos modelos de negocio depende ahora de ella.\n",
    "\n",
    "2. **The Business effect**: El uso de inteligencia artificial y del aprendizaje de máquina está creando un aumento significativo en la productividad como nunca antes se había visto. Cada vez más empresas empieza a requerir habilidades relacionadas con IA en sus empresas.\n",
    "\n",
    "3. **Harán trabajos riesgosos para los humanos:** Muchos trabajos representan un verdadero peligro para los humanos. Una máquina inteligente podría hacerlos, sin poner en riesgo una vida.\n",
    "\n",
    "4. **Razonan más rápido y no se cansan:** Se podrá utilizar su capacidad de computo/razonamiento para solucionar problemas complejos cada vez más rápido.\n"
   ]
  },
  {
   "cell_type": "markdown",
   "metadata": {
    "slideshow": {
     "slide_type": "slide"
    }
   },
   "source": [
    "## Riesgos\n",
    "\n",
    "1. **Inteligencias artificiales sesgadas:** Si quienes las construimos tenemos prejuicios... ¿los tendrán ellas?\n",
    "\n",
    "2. **Potencial destructivo:** De la misma forma que tienen la facilidad de agilizar muchas tareas útiles para los humanos, también pueden ser fácilmente convertidas en ármas de destrucción.\n",
    "\n",
    "3. **¿Nos reemplazaría?**: Sin entrar en un escenario post-apocaliptico, pensemos: ¿Podría una máquina reemplazar el trabajo que hacemos los humanos? "
   ]
  },
  {
   "cell_type": "markdown",
   "metadata": {
    "slideshow": {
     "slide_type": "slide"
    }
   },
   "source": [
    "# Muchas gracias\n",
    "\n",
    "## dipaco@gmail.com\n",
    "<center>\n",
    "<img src=\"images/thanks.jpg\" width=700/>\n",
    "</center>"
   ]
  },
  {
   "cell_type": "markdown",
   "metadata": {
    "slideshow": {
     "slide_type": "slide"
    }
   },
   "source": [
    "# Links de interés\n",
    "\n",
    "* [Ask the AI experts: What are the applications of AI?](https://www.youtube.com/watch?v=GapiDqifthM)\n",
    "* [Fun AI Google Projects](https://www.youtube.com/watch?v=gWBVy-JV0RA)\n",
    "* [Cursos sobre IA](https://es.coursera.org/courses?languages=es&query=artificial+intelligence)\n",
    "* [Artificial Intelligence: Industrial applications](https://www.youtube.com/watch?v=va9IyKIETyY)\n",
    "* [IA Products](https://www.youtube.com/watch?v=dcZvhP-IqY4)\n",
    "* [What is AI](https://www.youtube.com/watch?v=mJeNghZXtMo)\n",
    "* [Deep Learing Applications](https://www.youtube.com/watch?v=T1dtKMZFu-Q)"
   ]
  },
  {
   "cell_type": "markdown",
   "metadata": {
    "collapsed": true,
    "slideshow": {
     "slide_type": "slide"
    }
   },
   "source": [
    "# Bibliografía\n",
    "\n",
    "* Thomas L. Dean, James Allen, John Aloimonos (1995). Artificial Intelligence: Theory and Practice. Benjamin/Cummings Publishing Company\n",
    "* Stuart Russell and Peter Norvig (1994). Artificial Intelligence: A modern Approach. Prentice Hall.\n",
    "* José Hernandez-Orallo (2017). Evaluation in artificial intelligence: from task-oriented to ability-oriented measurement. Springer."
   ]
  }
 ],
 "metadata": {
  "celltoolbar": "Slideshow",
  "kernelspec": {
   "display_name": "Python 3",
   "language": "python",
   "name": "python3"
  },
  "language_info": {
   "codemirror_mode": {
    "name": "ipython",
    "version": 3
   },
   "file_extension": ".py",
   "mimetype": "text/x-python",
   "name": "python",
   "nbconvert_exporter": "python",
   "pygments_lexer": "ipython3",
   "version": "3.5.0"
  }
 },
 "nbformat": 4,
 "nbformat_minor": 2
}
