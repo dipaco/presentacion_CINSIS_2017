{
 "cells": [
  {
   "cell_type": "markdown",
   "metadata": {
    "slideshow": {
     "slide_type": "skip"
    }
   },
   "source": [
    "#### Configuration\n",
    "from IPython.core.display import HTML\n",
    "HTML(\"\"\"\n",
    "<style>\n",
    "\n",
    "div.cell { /* Tunes the space between cells */\n",
    "margin-top:1em;\n",
    "margin-bottom:1em;\n",
    "}\n",
    "\n",
    "div.text_cell_render h1 { /* Main titles bigger, centered */\n",
    "font-size: 1.2em;\n",
    "line-height:1.4em;\n",
    "text-align:center;\n",
    "}\n",
    "\n",
    "div.text_cell_render h2 { /*  Parts names nearer from text */\n",
    "margin-bottom: -0.4em;\n",
    "}\n",
    "\n",
    "\n",
    "div.text_cell_render { /* Customize text cells */\n",
    "font-family: 'Times New Roman';\n",
    "font-size:1.5em;\n",
    "line-height:1.4em;\n",
    "padding-left:3em;\n",
    "padding-right:3em;\n",
    "}\n",
    "</style>\n",
    "\"\"\")"
   ]
  },
  {
   "cell_type": "markdown",
   "metadata": {
    "slideshow": {
     "slide_type": "slide"
    }
   },
   "source": [
    "# Técnicas Recientes de Inteligencia Artificial Aplicadas a la Ingeniería\n",
    "## Diego Patiño, Ph.D (c).\n",
    "#### 2017"
   ]
  },
  {
   "cell_type": "markdown",
   "metadata": {
    "slideshow": {
     "slide_type": "slide"
    }
   },
   "source": [
    "## ¿De donde vengo?\n",
    "\n",
    "<center>\n",
    "<img src=\"images/medellin.jpg\" width=\"800px\">\n",
    " </center>"
   ]
  },
  {
   "cell_type": "markdown",
   "metadata": {
    "slideshow": {
     "slide_type": "slide"
    }
   },
   "source": [
    "## 150 Años de la Universidad Nacional de Colombia\n",
    "\n",
    "<center>\n",
    "<img src=\"images/unal.png\" width=\"800px\">\n",
    " </center>"
   ]
  },
  {
   "cell_type": "markdown",
   "metadata": {
    "slideshow": {
     "slide_type": "slide"
    }
   },
   "source": [
    "##### Pertenezco al grupo de investigación en Inteligencia Artificial (GIDIA)\n",
    "\n",
    "<center>\n",
    "<img src=\"images/Gidia.png\" width=\"700px\">\n",
    " </center>"
   ]
  },
  {
   "cell_type": "markdown",
   "metadata": {
    "slideshow": {
     "slide_type": "slide"
    }
   },
   "source": [
    "# Agenda\n",
    "\n",
    "<font size=3.0>\n",
    "\n",
    "1. Desmitificación de la inteligencia artificial.\n",
    "    * Como se define la IA.\n",
    "    * Optimización, Aprendizaje de máquina, Visión por computador y otras disciplinas de IA.\n",
    "    * ¿Qué hace a un software inteligente?\n",
    "2. Como solucionar problemas de IA. \n",
    "    * Conceptos claros = Mejores desarrollos de IA.\n",
    "    * Programar es fundamental (Pero no es lo único)\n",
    "    * Herramientas para el desarrollo de IA.\n",
    "3. ¿Cómo se hace inteligencia artificial actualmente?\n",
    "    * Evolución de la IA.\n",
    "    * Deep learning: Una Revolución del mundo del machine learning.\n",
    "    * IA como servicio (IAaaS).\n",
    "    * Big Data.\n",
    "    * Robótica.\n",
    "4. Inteligencia artificial en la ingeniería.\n",
    "</font>_"
   ]
  },
  {
   "cell_type": "markdown",
   "metadata": {
    "slideshow": {
     "slide_type": "slide"
    }
   },
   "source": [
    "# Desmitificación de la inteligencia artificial\n",
    "\n",
    "### (Que es y que no es Inteligencia artificial)"
   ]
  },
  {
   "cell_type": "markdown",
   "metadata": {
    "slideshow": {
     "slide_type": "slide"
    }
   },
   "source": [
    "## Como definir la IA.\n",
    "\n",
    "<img src='images/John _McCarthy.jpg' width='300px'>\n"
   ]
  },
  {
   "cell_type": "markdown",
   "metadata": {
    "slideshow": {
     "slide_type": "-"
    }
   },
   "source": [
    "> [...] Es la ciencia e ingenio de hacer máquinas inteligentes, especialmente programas de cómputo inteligentes [...]\n",
    "\n",
    "> - John McCarthy, 1956*"
   ]
  },
  {
   "cell_type": "markdown",
   "metadata": {
    "slideshow": {
     "slide_type": "slide"
    }
   },
   "source": [
    "## Como definir la IA.\n",
    "\n",
    "<img src='images/Dean.jpg' width='250px'>\n"
   ]
  },
  {
   "cell_type": "markdown",
   "metadata": {},
   "source": [
    "> Es el diseño y estudio de programas de computadora que se comportan inteligentemente.\n",
    "\n",
    "> (Dean, Allen, & Aloimonos, 1995)\n"
   ]
  },
  {
   "cell_type": "markdown",
   "metadata": {
    "slideshow": {
     "slide_type": "slide"
    }
   },
   "source": [
    "## Como definir la IA.\n",
    "\n",
    "<img src='images/TE-Logo.png' width='300px'>\n"
   ]
  },
  {
   "cell_type": "markdown",
   "metadata": {},
   "source": [
    "> La inteligencia artificial es una entidad (o collección de entidades cooperativas entre si), capaz de recibir entradas del entorno; intepretrar y aprender de tales entradas; y exibir comportamientos y acciones relacionados con dichas entradas, que ayudan a la entidad a lograr objetivos o metas particulares en un periodo de tiempo dado.\n",
    "\n",
    "> Daniel G. Faggella (2016). Cofounder of TechEmergence.\n",
    "\n",
    "###### (https://www.techemergence.com/what-is-artificial-intelligence-an-informed-definition/)\n"
   ]
  },
  {
   "cell_type": "markdown",
   "metadata": {
    "slideshow": {
     "slide_type": "slide"
    }
   },
   "source": [
    "# Disciplinas dentro de la IA\n",
    "\n",
    "<img src='images/disciplinas_ai.png' width='600px'>\n",
    "\n",
    "**Exta**: Optimización, Estadística, y otras áreas afinas a la ingeniería."
   ]
  },
  {
   "cell_type": "markdown",
   "metadata": {
    "slideshow": {
     "slide_type": "slide"
    }
   },
   "source": [
    "## ¿Qué hace a un sistema inteligente?\n",
    "\n",
    "### ¿Existen de verdad los sistemas inteligentes?\n",
    "\n",
    "### dd\n",
    "\n",
    "### fff\n",
    "\n",
    "| <img src='images/disciplinas_ai.png' width='100px'> | <img src='images/disciplinas_ai.png' width='100px'> |\n",
    "|-----------------------------------------------------------------------------------------------------------|\n",
    "|                                                   |                                                       |"
   ]
  },
  {
   "cell_type": "markdown",
   "metadata": {
    "slideshow": {
     "slide_type": "slide"
    }
   },
   "source": [
    "# Como solucionar problemas de IA."
   ]
  },
  {
   "cell_type": "markdown",
   "metadata": {
    "slideshow": {
     "slide_type": "slide"
    }
   },
   "source": [
    "## Conceptos claros => Mejores desarrollos de IA."
   ]
  },
  {
   "cell_type": "markdown",
   "metadata": {
    "slideshow": {
     "slide_type": "slide"
    }
   },
   "source": [
    "## Programar es clave... Pero es lo único.\n",
    "\n",
    "1. Computer Science Fundamentals and Programming\n",
    "2. Probability and Statistics\n",
    "3. Data Modeling and Evaluation\n",
    "4. Applying Machine Learning Algorithms and Libraries\n",
    "5. Software Engineering and System Design\n",
    "\n",
    "Fuente: [Udacity Blog](https://blog.udacity.com/2016/04/5-skills-you-need-to-become-a-machine-learning-engineer.html)"
   ]
  },
  {
   "cell_type": "markdown",
   "metadata": {
    "slideshow": {
     "slide_type": "slide"
    }
   },
   "source": [
    "## Programar es clave... Pero es lo único.\n",
    "\n",
    "<center>\n",
    "<img src='images/ml_need_graph.png' width='900px'>\n",
    "</center>\n",
    "\n",
    "Fuente: [Udacity Blog](https://blog.udacity.com/2016/04/5-skills-you-need-to-become-a-machine-learning-engineer.html)"
   ]
  },
  {
   "cell_type": "markdown",
   "metadata": {
    "slideshow": {
     "slide_type": "slide"
    }
   },
   "source": [
    "## Herramientas para el desarrollo de IA.\n",
    "\n",
    "1. Datos: Sin información no nay conocimiento, sin conocimiento no se toman decisiones.\n",
    "2. Frameworks: No reinvatar la rueda"
   ]
  },
  {
   "cell_type": "markdown",
   "metadata": {
    "slideshow": {
     "slide_type": "slide"
    }
   },
   "source": [
    "## ¿Donde consigo los datos?"
   ]
  },
  {
   "cell_type": "markdown",
   "metadata": {
    "slideshow": {
     "slide_type": "slide"
    }
   },
   "source": [
    "# Ténicas modernas de IA."
   ]
  },
  {
   "cell_type": "markdown",
   "metadata": {
    "slideshow": {
     "slide_type": "slide"
    }
   },
   "source": [
    "## Cómo han cambiado los sistemas inteligentes."
   ]
  },
  {
   "cell_type": "markdown",
   "metadata": {
    "slideshow": {
     "slide_type": "slide"
    }
   },
   "source": [
    "## Cómo han cambiado los sistemas inteligentes. "
   ]
  },
  {
   "cell_type": "markdown",
   "metadata": {
    "slideshow": {
     "slide_type": "slide"
    }
   },
   "source": [
    "## Cómo han cambiado los sistemas inteligentes."
   ]
  },
  {
   "cell_type": "markdown",
   "metadata": {
    "slideshow": {
     "slide_type": "slide"
    }
   },
   "source": [
    "## Deep Learning: Una revolución en el mundo del machine learning\n",
    "\n",
    "### Historia y definición"
   ]
  },
  {
   "cell_type": "markdown",
   "metadata": {
    "slideshow": {
     "slide_type": "slide"
    }
   },
   "source": [
    "## Deep Learning: Una revolución en el mundo del machine learning\n",
    "\n",
    "### Definición ampliada"
   ]
  },
  {
   "cell_type": "markdown",
   "metadata": {
    "slideshow": {
     "slide_type": "slide"
    }
   },
   "source": [
    "## Deep Learning: Una revolución en el mundo del machine learning\n",
    "\n",
    "### Por qué es tan atractiva"
   ]
  },
  {
   "cell_type": "markdown",
   "metadata": {
    "slideshow": {
     "slide_type": "slide"
    }
   },
   "source": [
    "## Deep Learning: Una revolución en el mundo del machine learning\n",
    "\n",
    "### Que se puede hacer con ella"
   ]
  },
  {
   "cell_type": "markdown",
   "metadata": {
    "slideshow": {
     "slide_type": "slide"
    }
   },
   "source": [
    "## Deep Learning: Una revolución en el mundo del machine learning\n",
    "\n",
    "### Ejemplos"
   ]
  },
  {
   "cell_type": "markdown",
   "metadata": {
    "slideshow": {
     "slide_type": "slide"
    }
   },
   "source": [
    "## Inteligencia artificial como servicio (AIaaS)\n",
    "\n",
    "* El software como servicio * (SaaS) * permite a los usuarios conectarse a aplicaciones basadas en la nube a través de Internet y usarlas. Algunos ejemplos comunes son el correo electrónico, los calendarios y las herramientas ofimáticas (como Microsoft Office 365).\n",
    "\n",
    "| <img src='images/mlaas.png' width='1800px'>        |  Los clientes acceden al servicio a través de peticiones web. El servidor usa modelos pre-entrenados basados en IA para producir una respuesta. |\n",
    "|-----------------------------------------------------------------------------------------------------------|\n",
    "|                                                   |                                                       |"
   ]
  },
  {
   "cell_type": "markdown",
   "metadata": {
    "slideshow": {
     "slide_type": "slide"
    }
   },
   "source": [
    "## Inteligencia artificial como servicio (AIaaS)\n",
    "\n",
    "* Modelos \"ready-to-use\" consultables a través de un API\n",
    "* Implementación de Algoritmos de AI/Machine learning rápidos y escalables.\n",
    "\n",
    "<center>\n",
    "<img src=\"images/AIaaS.png\" width=\"600px\">\n",
    " </center>"
   ]
  },
  {
   "cell_type": "markdown",
   "metadata": {
    "slideshow": {
     "slide_type": "slide"
    }
   },
   "source": [
    "## Inteligencia artificial como servicio (AIaaS)\n",
    "\n",
    "#### Ejemplo: Google Vision API"
   ]
  },
  {
   "cell_type": "code",
   "execution_count": 5,
   "metadata": {},
   "outputs": [],
   "source": [
    "def detect_faces(image_filename):\n",
    "    from google.cloud import vision # Google Vision API Object\n",
    "    import matplotlib.pyplot as plt\n",
    "    import numpy as np\n",
    "    from PIL import Image, ImageDraw\n",
    "\n",
    "    client = vision.Client('shopping-recommender')\n",
    "    image = client.image(filename=image_filename)\n",
    "    faces = image.detect_faces(2) # Aquí ocurre la detección/comunicación con el servidor de google\n",
    "    im = Image.open(image_filename)\n",
    "    draw = ImageDraw.Draw(im)\n",
    "\n",
    "    for face in faces:\n",
    "        box = [(vertex.x_coordinate, vertex.y_coordinate) for vertex in face.bounds.vertices]\n",
    "        draw.line(box + [box[0]], width=5, fill='#00ff00')\n",
    "\n",
    "    plt.imshow(np.asarray(im))\n",
    "    plt.show()"
   ]
  },
  {
   "cell_type": "markdown",
   "metadata": {
    "slideshow": {
     "slide_type": "slide"
    }
   },
   "source": [
    "## Inteligencia artificial como servicio (AIaaS)"
   ]
  },
  {
   "cell_type": "code",
   "execution_count": 9,
   "metadata": {
    "slideshow": {
     "slide_type": "-"
    }
   },
   "outputs": [
    {
     "data": {
      "image/png": "[encoded data removed]",
      "text/plain": [
       "<matplotlib.figure.Figure at 0x113197400>"
      ]
     },
     "metadata": {},
     "output_type": "display_data"
    }
   ],
   "source": [
    "image_filename = 'images/John _McCarthy.jpg'\n",
    "#image_filename = 'images/face-input.jpg'\n",
    "detect_faces(image_filename)"
   ]
  },
  {
   "cell_type": "markdown",
   "metadata": {
    "slideshow": {
     "slide_type": "slide"
    }
   },
   "source": [
    "## Big Data\n",
    "\n",
    "### 1"
   ]
  },
  {
   "cell_type": "markdown",
   "metadata": {
    "slideshow": {
     "slide_type": "slide"
    }
   },
   "source": [
    "## Big Data\n",
    "\n",
    "### 2"
   ]
  },
  {
   "cell_type": "markdown",
   "metadata": {
    "slideshow": {
     "slide_type": "slide"
    }
   },
   "source": [
    "## Big Data\n",
    "\n",
    "### 3"
   ]
  },
  {
   "cell_type": "markdown",
   "metadata": {
    "slideshow": {
     "slide_type": "slide"
    }
   },
   "source": [
    "## Robótica."
   ]
  },
  {
   "cell_type": "markdown",
   "metadata": {
    "slideshow": {
     "slide_type": "slide"
    }
   },
   "source": [
    "## Robótica.\n",
    "\n",
    "### Averiguar un poco sobre robótica"
   ]
  },
  {
   "cell_type": "markdown",
   "metadata": {
    "slideshow": {
     "slide_type": "slide"
    }
   },
   "source": [
    "## Robótica.\n",
    "\n",
    "### Robots colaborativos"
   ]
  },
  {
   "cell_type": "markdown",
   "metadata": {
    "slideshow": {
     "slide_type": "slide"
    }
   },
   "source": [
    "# Inteligencia artificial en la ingeniería (Aplicaciones).\n",
    "\n",
    "1. KNOWLEDGE REPRESENTATION\n",
    "2. AUTOMATED REASONING\n",
    "3. MACHINE LEARNING\n",
    "4. COMPUTER VISION\n",
    "5. ROBOTICS"
   ]
  },
  {
   "cell_type": "markdown",
   "metadata": {
    "slideshow": {
     "slide_type": "slide"
    }
   },
   "source": [
    "# Inteligencia artificial en la ingeniería (Aplicaciones)."
   ]
  },
  {
   "cell_type": "markdown",
   "metadata": {
    "slideshow": {
     "slide_type": "slide"
    }
   },
   "source": [
    "# Inteligencia artificial en la ingeniería (Aplicaciones)."
   ]
  },
  {
   "cell_type": "markdown",
   "metadata": {
    "slideshow": {
     "slide_type": "slide"
    }
   },
   "source": [
    "# Inteligencia artificial en la ingeniería (Aplicaciones)."
   ]
  },
  {
   "cell_type": "markdown",
   "metadata": {
    "slideshow": {
     "slide_type": "slide"
    }
   },
   "source": [
    "# Muchas gracias\n",
    "<center>\n",
    "<img src=\"images/thanks.jpg\" width=700/>\n",
    "</center>"
   ]
  },
  {
   "cell_type": "markdown",
   "metadata": {
    "slideshow": {
     "slide_type": "slide"
    }
   },
   "source": [
    "# Links de interés\n",
    "\n",
    "* [Ask the AI experts: What are the applications of AI?](https://www.youtube.com/watch?v=GapiDqifthM)\n",
    "* [Fun AI Google Projects](https://www.youtube.com/watch?v=gWBVy-JV0RA)\n",
    "* [Cursos sobre IA](https://es.coursera.org/courses?languages=es&query=artificial+intelligence)\n",
    "* [Artificial Intelligence: Industrial applications](https://www.youtube.com/watch?v=va9IyKIETyY)\n",
    "* [IA Products](https://www.youtube.com/watch?v=dcZvhP-IqY4)\n",
    "* [What is AI](https://www.youtube.com/watch?v=mJeNghZXtMo)\n",
    "* [Deep Learing Applications](https://www.youtube.com/watch?v=T1dtKMZFu-Q)"
   ]
  },
  {
   "cell_type": "markdown",
   "metadata": {
    "collapsed": true,
    "slideshow": {
     "slide_type": "slide"
    }
   },
   "source": [
    "# Bibliografía\n",
    "\n",
    "* Thomas L. Dean, James Allen, John Aloimonos (1995). Artificial Intelligence: Theory and Practice. Benjamin/Cummings Publishing Company\n",
    "* Stuart Russell and Peter Norvig (1994). Artificial Intelligence: A modern Approach. Prentice Hall."
   ]
  },
  {
   "cell_type": "markdown",
   "metadata": {
    "slideshow": {
     "slide_type": "skip"
    }
   },
   "source": [
    "```python\n",
    "print \"Hello World\"\n",
    "```"
   ]
  },
  {
   "cell_type": "markdown",
   "metadata": {
    "slideshow": {
     "slide_type": "skip"
    }
   },
   "source": [
    "| This | is   |\n",
    "|------|------|\n",
    "|   a  | table|"
   ]
  },
  {
   "cell_type": "markdown",
   "metadata": {
    "slideshow": {
     "slide_type": "skip"
    }
   },
   "source": [
    "<img src=\"images/placeholder.jpg\" width=300/>"
   ]
  },
  {
   "cell_type": "code",
   "execution_count": 2,
   "metadata": {
    "slideshow": {
     "slide_type": "skip"
    }
   },
   "outputs": [
    {
     "data": {
      "image/jpeg": "[encoded data removed]",
      "text/html": [
       "\n",
       "        <iframe\n",
       "            width=\"400\"\n",
       "            height=\"300\"\n",
       "            src=\"https://www.youtube.com/embed/Fth9LU2qVD4?start=0&end=110&autoplay=False&color=red&theme=light\"\n",
       "            frameborder=\"0\"\n",
       "            allowfullscreen\n",
       "        ></iframe>\n",
       "        "
      ],
      "text/plain": [
       "<IPython.lib.display.YouTubeVideo at 0x1131904e0>"
      ]
     },
     "execution_count": 2,
     "metadata": {},
     "output_type": "execute_result"
    }
   ],
   "source": [
    "from IPython.display import YouTubeVideo\n",
    "from datetime import timedelta\n",
    "start=int(timedelta(hours=0, minutes=0, seconds=0).total_seconds())\n",
    "end=int(timedelta(hours=0, minutes=1, seconds=50).total_seconds())\n",
    "YouTubeVideo('Fth9LU2qVD4', start=start, end=end, autoplay=False, theme=\"light\", color=\"red\")"
   ]
  }
 ],
 "metadata": {
  "celltoolbar": "Slideshow",
  "kernelspec": {
   "display_name": "Python 3",
   "language": "python",
   "name": "python3"
  },
  "language_info": {
   "codemirror_mode": {
    "name": "ipython",
    "version": 3
   },
   "file_extension": ".py",
   "mimetype": "text/x-python",
   "name": "python",
   "nbconvert_exporter": "python",
   "pygments_lexer": "ipython3",
   "version": "3.5.0"
  }
 },
 "nbformat": 4,
 "nbformat_minor": 2
}
